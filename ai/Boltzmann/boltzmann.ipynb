{
 "cells": [
  {
   "cell_type": "code",
   "execution_count": 3,
   "id": "bcf84ca1",
   "metadata": {},
   "outputs": [
    {
     "name": "stdout",
     "output_type": "stream",
     "text": [
      "Requirement already satisfied: scikit-learn==1.3.2 in /Library/Frameworks/Python.framework/Versions/3.11/lib/python3.11/site-packages (1.3.2)\n",
      "Requirement already satisfied: numpy==1.26.4 in /Library/Frameworks/Python.framework/Versions/3.11/lib/python3.11/site-packages (1.26.4)\n",
      "Requirement already satisfied: pandas==2.1.4 in /Library/Frameworks/Python.framework/Versions/3.11/lib/python3.11/site-packages (2.1.4)\n",
      "Requirement already satisfied: pillow==9.4.0 in /Library/Frameworks/Python.framework/Versions/3.11/lib/python3.11/site-packages (9.4.0)\n",
      "Requirement already satisfied: scipy>=1.5.0 in /Library/Frameworks/Python.framework/Versions/3.11/lib/python3.11/site-packages (from scikit-learn==1.3.2) (1.15.2)\n",
      "Requirement already satisfied: joblib>=1.1.1 in /Library/Frameworks/Python.framework/Versions/3.11/lib/python3.11/site-packages (from scikit-learn==1.3.2) (1.4.2)\n",
      "Requirement already satisfied: threadpoolctl>=2.0.0 in /Library/Frameworks/Python.framework/Versions/3.11/lib/python3.11/site-packages (from scikit-learn==1.3.2) (3.6.0)\n",
      "Requirement already satisfied: python-dateutil>=2.8.2 in /Library/Frameworks/Python.framework/Versions/3.11/lib/python3.11/site-packages (from pandas==2.1.4) (2.9.0.post0)\n",
      "Requirement already satisfied: pytz>=2020.1 in /Library/Frameworks/Python.framework/Versions/3.11/lib/python3.11/site-packages (from pandas==2.1.4) (2025.2)\n",
      "Requirement already satisfied: tzdata>=2022.1 in /Library/Frameworks/Python.framework/Versions/3.11/lib/python3.11/site-packages (from pandas==2.1.4) (2025.2)\n",
      "Requirement already satisfied: six>=1.5 in /Library/Frameworks/Python.framework/Versions/3.11/lib/python3.11/site-packages (from python-dateutil>=2.8.2->pandas==2.1.4) (1.17.0)\n",
      "\n",
      "\u001b[1m[\u001b[0m\u001b[34;49mnotice\u001b[0m\u001b[1;39;49m]\u001b[0m\u001b[39;49m A new release of pip is available: \u001b[0m\u001b[31;49m25.0\u001b[0m\u001b[39;49m -> \u001b[0m\u001b[32;49m25.1.1\u001b[0m\n",
      "\u001b[1m[\u001b[0m\u001b[34;49mnotice\u001b[0m\u001b[1;39;49m]\u001b[0m\u001b[39;49m To update, run: \u001b[0m\u001b[32;49mpip install --upgrade pip\u001b[0m\n"
     ]
    }
   ],
   "source": [
    "!pip install scikit-learn==1.3.2 numpy==1.26.4 pandas==2.1.4 pillow==9.4.0"
   ]
  },
  {
   "cell_type": "code",
   "execution_count": 4,
   "id": "3857324f",
   "metadata": {},
   "outputs": [],
   "source": [
    "%matplotlib inline"
   ]
  },
  {
   "cell_type": "code",
   "execution_count": 5,
   "id": "36a07959",
   "metadata": {},
   "outputs": [],
   "source": [
    "from sklearn.datasets import fetch_openml\n",
    "from sklearn.model_selection import train_test_split\n",
    "import numpy as np\n",
    "import matplotlib.pyplot as plt"
   ]
  },
  {
   "cell_type": "code",
   "execution_count": 6,
   "id": "6e8d1adf",
   "metadata": {},
   "outputs": [],
   "source": [
    "from sklearn.utils import gen_batches"
   ]
  },
  {
   "cell_type": "code",
   "execution_count": 7,
   "id": "e9ae12d7",
   "metadata": {},
   "outputs": [
    {
     "name": "stderr",
     "output_type": "stream",
     "text": [
      "/Library/Frameworks/Python.framework/Versions/3.11/lib/python3.11/site-packages/sklearn/datasets/_openml.py:1022: FutureWarning: The default value of `parser` will change from `'liac-arff'` to `'auto'` in 1.4. You can set `parser='auto'` to silence this warning. Therefore, an `ImportError` will be raised from 1.4 if the dataset is dense and pandas is not installed. Note that the pandas parser may return different data types. See the Notes Section in fetch_openml's API doc for details.\n",
      "  warn(\n"
     ]
    },
    {
     "name": "stdout",
     "output_type": "stream",
     "text": [
      "(70000, 784)\n"
     ]
    }
   ],
   "source": [
    "def plot_example(X,y):\n",
    "    for i, (img,y) in enumerate(zip(X[:5].reshape(5,28,28),y[:5])):\n",
    "        plt.subplot(151+i)\n",
    "        plt.imshow(img, cmap = \"gray\")\n",
    "        plt.xticks([])\n",
    "        plt.yticks([])\n",
    "        plt.title(y)\n",
    "\n",
    "X, Y = fetch_openml(\"mnist_784\", version=1, return_X_y=True, as_frame=False)\n",
    "print(X.shape)\n",
    "plot_example(X,Y)"
   ]
  },
  {
   "cell_type": "code",
   "execution_count": 8,
   "id": "359064fd",
   "metadata": {},
   "outputs": [],
   "source": [
    "X /= 255.0"
   ]
  },
  {
   "cell_type": "code",
   "execution_count": 9,
   "id": "10eec182",
   "metadata": {},
   "outputs": [],
   "source": [
    "X = np.where(X>0.5,1,0)"
   ]
  },
  {
   "cell_type": "code",
   "execution_count": 10,
   "id": "9e100d9b",
   "metadata": {},
   "outputs": [],
   "source": [
    "X_train, X_test, Y_train, Y_test = train_test_split(X, Y, test_size=10000, random_state=42, stratify=Y)"
   ]
  },
  {
   "cell_type": "code",
   "execution_count": 11,
   "id": "76278516",
   "metadata": {},
   "outputs": [],
   "source": [
    "plot_example(X,Y)"
   ]
  },
  {
   "cell_type": "code",
   "execution_count": 16,
   "id": "3345da3b",
   "metadata": {},
   "outputs": [],
   "source": [
    "class RBM:\n",
    "    def __init__(self, num_hidden, num_visible):\n",
    "        self.hidden_dim = num_hidden\n",
    "        self.visible_dim = num_visible\n",
    "        self.W = np.random.randn(num_visible,num_hidden)\n",
    "        self.bh = np.random.randn(num_hidden)\n",
    "        self.bv = np.random.randn(num_visible)\n",
    "\n",
    "    def fit(self,X,epochs,batch_dim,lr):\n",
    "        for epoch in range(epochs):\n",
    "            self.plot_weights(step=epoch, save=True)\n",
    "            epoch_error=0\n",
    "            batches = list(gen_batches(X.shape[0], batch_dim))\n",
    "            for i in batches:\n",
    "                batch = X[i.start:i.stop]\n",
    "                batch_size = batch.shape[0]\n",
    "                pre_sigmoid = np.dot(batch,self.W)+self.bh\n",
    "                P = np.ones((batch_size,self.hidden_dim)) / (np.ones((batch_size,self.hidden_dim))+np.exp(-pre_sigmoid))\n",
    "                wake = np.dot(batch.T,P)\n",
    "\n",
    "                pos_ones_reconstructed = np.ones((batch_size, self.visible_dim))\n",
    "                reconstructed_data_probabilities = pos_ones_reconstructed / (pos_ones_reconstructed + np.exp(-np.dot(P, np.transpose(self.W))-self.bv))\n",
    "                neg_ones_hidden = np.ones((batch_size, self.hidden_dim))\n",
    "                negative_hidden_probabilities = neg_ones_hidden / (neg_ones_hidden + np.exp(-np.dot(reconstructed_data_probabilities,self.W)-self.bh))\n",
    "                dream = np.dot(np.transpose(reconstructed_data_probabilities),negative_hidden_probabilities)\n",
    "\n",
    "                error = np.sum((batch-reconstructed_data_probabilities)**2)/batch_size\n",
    "\n",
    "                self.W = self.W + lr*(wake-dream)/batch_size\n",
    "                self.bh += lr*(np.sum(P-negative_hidden_probabilities, axis=0))/batch_size\n",
    "                self.bv += lr*(np.sum(batch-reconstructed_data_probabilities,axis=0))/batch_size\n",
    "\n",
    "                epoch_error+=error\n",
    "            \n",
    "            epoch_error/=len(batches)\n",
    "            print(f\"epoch: {epoch}/{epochs} \\t{'error:'} {epoch_error}\")\n",
    "\n",
    "    def predict_reconstruction(self,X):\n",
    "        ones = np.ones((X.shape[0],self.hidden_dim))\n",
    "        positive_hidden_probabilities = ones/(ones+np.exp(-np.dot(X,self.W)-self.bh))\n",
    "        stochastic_probs = positive_hidden_probabilities>np.random.uniform(size=positive_hidden_probabilities.shape)\n",
    "\n",
    "        ones_reconstruct = np.ones((X.shape[0], self.visible_dim))\n",
    "        reconstruct_probabilities = ones_reconstruct/(ones_reconstruct+np.exp(-np.dot(stochastic_probs,np.transpose(self.W))-self.bv))\n",
    "        return reconstruct_probabilities\n",
    "    \n",
    "    def plot_weights(self, title='weights', step=0, save=True):\n",
    "        cols = 5\n",
    "        rows = int(self.hidden_dim / cols)\n",
    "\n",
    "\n",
    "        plt.clf()\n",
    "        fig, axes = plt.subplots(rows, cols, figsize=(10,10))\n",
    "        fig.suptitle(f\"{title} step:{step}\")\n",
    "        for i in range(rows):\n",
    "            for j in range(cols):\n",
    "                axes[i, j].imshow(self.W[:,i*cols+j].reshape(28, 28), cmap='gray')\n",
    "                axes[i, j].axis('off')\n",
    "\n",
    "        plt.subplots_adjust(wspace=1, hspace=1)\n",
    "\n",
    "        if save:\n",
    "            plt.savefig(f\"{title}_step_{step}.png\")\n",
    "        else:\n",
    "            plt.show()\n",
    "\n",
    "        plt.close()"
   ]
  },
  {
   "cell_type": "code",
   "execution_count": 17,
   "id": "6cf5a91e",
   "metadata": {},
   "outputs": [
    {
     "name": "stdout",
     "output_type": "stream",
     "text": [
      "epoch: 0/20 \terror: 52.363820557979665\n",
      "epoch: 1/20 \terror: 44.28929365925065\n",
      "epoch: 2/20 \terror: 42.61858898304952\n",
      "epoch: 3/20 \terror: 41.71877135903551\n",
      "epoch: 4/20 \terror: 41.07888561538409\n",
      "epoch: 5/20 \terror: 40.63305520944821\n",
      "epoch: 6/20 \terror: 40.30709018839055\n",
      "epoch: 7/20 \terror: 40.07918349798225\n",
      "epoch: 8/20 \terror: 39.9275364615956\n",
      "epoch: 9/20 \terror: 39.7693356682192\n",
      "epoch: 10/20 \terror: 39.654353863334094\n",
      "epoch: 11/20 \terror: 39.495779638848326\n",
      "epoch: 12/20 \terror: 39.28751598561424\n",
      "epoch: 13/20 \terror: 39.09812154108869\n",
      "epoch: 14/20 \terror: 38.917342153532374\n",
      "epoch: 15/20 \terror: 38.733634797521255\n",
      "epoch: 16/20 \terror: 38.539006979702954\n",
      "epoch: 17/20 \terror: 38.34270947188605\n",
      "epoch: 18/20 \terror: 38.217101777163194\n",
      "epoch: 19/20 \terror: 38.143024302414936\n"
     ]
    },
    {
     "data": {
      "text/plain": [
       "<contextlib.ExitStack at 0x16d807690>"
      ]
     },
     "execution_count": 17,
     "metadata": {},
     "output_type": "execute_result"
    }
   ],
   "source": [
    "# Turn off interactive mode of matplotlib to avoid showing multiple plots\n",
    "plt.ioff() # Initialize RBM with 30 hidden units\n",
    "rbm = RBM(num_visible=X_train.shape[1], num_hidden=30)\n",
    "# Train the RBM\n",
    "rbm.fit(X_train, epochs=20, batch_dim=128, lr=0.7)\n",
    "# Turn interactive mode back on\n",
    "plt.ion()"
   ]
  },
  {
   "cell_type": "code",
   "execution_count": 19,
   "id": "49ac849c",
   "metadata": {},
   "outputs": [
    {
     "data": {
      "text/plain": [
       "<Figure size 640x480 with 0 Axes>"
      ]
     },
     "metadata": {},
     "output_type": "display_data"
    },
    {
     "data": {
      "image/png": "[encoded data removed]",
      "text/plain": [
       "<Figure size 3000x600 with 20 Axes>"
      ]
     },
     "metadata": {},
     "output_type": "display_data"
    }
   ],
   "source": [
    "digit_indices = [np.where(Y_test == str(i))[0][0] for i in range(10)]\n",
    "resticted_set = X_test[digit_indices]\n",
    "\n",
    "reconstructed = rbm.predict_reconstruction(resticted_set)\n",
    "\n",
    "# show 10 sample images\n",
    "rows = 2\n",
    "columns = 10\n",
    "\n",
    "fig, axes = plt.subplots(rows, columns,sharey = True,figsize=(30, 6))\n",
    "for i in range(rows):\n",
    "    for j in range(columns):\n",
    "        if i==0:\n",
    "          axes[i, j].imshow(resticted_set[j].reshape(28, 28), cmap='gray')\n",
    "        else:\n",
    "          axes[i, j].imshow(reconstructed[j].reshape(28, 28), cmap='gray')\n",
    "\n",
    "        axes[i, j].tick_params(left = False, right = False , labelleft = False,\n",
    "                labelbottom = False, bottom = False)\n",
    "\n",
    "axes[0, 0].set_ylabel(\"ACTUAL\", fontsize=12)\n",
    "axes[1, 0].set_ylabel(\"REC.\", fontsize=12)\n",
    "plt.show()"
   ]
  }
 ],
 "metadata": {
  "kernelspec": {
   "display_name": "Python 3",
   "language": "python",
   "name": "python3"
  },
  "language_info": {
   "codemirror_mode": {
    "name": "ipython",
    "version": 3
   },
   "file_extension": ".py",
   "mimetype": "text/x-python",
   "name": "python",
   "nbconvert_exporter": "python",
   "pygments_lexer": "ipython3",
   "version": "3.11.9"
  }
 },
 "nbformat": 4,
 "nbformat_minor": 5
}
